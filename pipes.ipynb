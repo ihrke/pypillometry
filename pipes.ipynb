{
 "cells": [
  {
   "cell_type": "markdown",
   "metadata": {},
   "source": [
    "# Pipeline-based processing in pypillometry"
   ]
  },
  {
   "cell_type": "code",
   "execution_count": 4,
   "metadata": {},
   "outputs": [
    {
     "name": "stdout",
     "output_type": "stream",
     "text": [
      "The autoreload extension is already loaded. To reload it, use:\n",
      "  %reload_ext autoreload\n"
     ]
    }
   ],
   "source": [
    "%load_ext autoreload\n",
    "%autoreload 2\n",
    "import sys\n",
    "sys.path.insert(0,\"..\")\n",
    "import pypillometry as pp\n"
   ]
  },
  {
   "cell_type": "markdown",
   "metadata": {},
   "source": [
    "`pypillometry` implements a pipeline-like approach where each operation executed on a `PupilData`-object returns a copy of the (modified) object. This enables the \"chaining\" of commands as follows:"
   ]
  },
  {
   "cell_type": "code",
   "execution_count": 5,
   "metadata": {},
   "outputs": [
    {
     "name": "stderr",
     "output_type": "stream",
     "text": [
      "/home/mmi041/Dropbox/work/projects/pupil/pypillometry/docs/../pypillometry/signal/baseline.py:144: RuntimeWarning: Mean of empty slice\n",
      "  y2=np.nanmean(y_padded.reshape(-1,R), axis=1)\n"
     ]
    }
   ],
   "source": [
    "# load a small example dataset\n",
    "d=pp.get_example_data(\"rlmw_002_short\")\n",
    "d=d.pupil_blinks_detect()\\\n",
    "    .blinks_merge()\\\n",
    "    .pupil_lowpass_filter(3)\\\n",
    "    .downsample(50)"
   ]
  },
  {
   "cell_type": "markdown",
   "metadata": {},
   "source": [
    "This command loads a data-file (`test.pd`), applies a 3Hz low-pass filter to it, downsamples the signal to 50 Hz, detects blinks in the signal and merges short, successive blinks together. The final result of this processing-pipeline is stored in object `d`. \n",
    "\n",
    "Here, for better visibility, we put each operation in a separate line. For that to work, we need to tell Python that the line has not yet ended at the end of the statement which we achieve by putting a backslash `\\` at the end of each (non-final) line.\n",
    "\n",
    "We can get a useful summary of the dataset and the operations applied to it by simply printing it:"
   ]
  },
  {
   "cell_type": "code",
   "execution_count": 6,
   "metadata": {},
   "outputs": [
    {
     "name": "stdout",
     "output_type": "stream",
     "text": [
      "EyeData(test short, 212.3KiB):\n",
      " n                   : 2047\n",
      " sampling_rate       : 50\n",
      " data                : ['left_x', 'left_y', 'left_pupil', 'right_x', 'right_y', 'right_pupil']\n",
      " nevents             : 40\n",
      " screen_limits       : ((0, 1280), (0, 1024))\n",
      " physical_screen_size: (30, 20)\n",
      " screen_eye_distance : not set\n",
      " duration_minutes    : 0.6823333333333333\n",
      " start_min           : 0.00015\n",
      " end_min             : 0.6820666666666667\n",
      " parameters          : {}\n",
      " glimpse             : EyeDataDict(vars=6,n=2047,shape=(2047,)): \n",
      "  left_x (float64): 656.5500000000001, 656.14, 654.0400000000001, 652.0199999999999, 650.4...\n",
      "  left_y (float64): 597.54, 591.5, 588.3899999999999, 593.7800000000001, 598.3199999999999...\n",
      "  left_pupil (float64): 1128.8869458721226, 1133.8058182761888, 1139.7069289167484, 1146.4462392731034, 1153.8027812522362...\n",
      "  right_x (float64): 775.56, 777.14, 777.08, 776.99, 778.72...\n",
      "  right_y (float64): 597.31, 601.3, 600.48, 595.3399999999999, 595.1...\n",
      "  right_pupil (float64): 954.2414624419623, 958.9101375371407, 963.632119267214, 968.2405296620748, 972.6750179976658...\n",
      "\n",
      " eyes                : ['left', 'right']\n",
      " nblinks             : {'left_pupil': 11, 'right_pupil': 11}\n",
      " blinks              : {'left': 11 intervals, 2154.55 +/- 3588.46, [460.00, 13460.00], 'right': 11 intervals, 1005.45 +/- 718.34, [320.00, 3080.00]}\n",
      " params              : {}\n",
      " History:\n",
      " *\n",
      " └ fill_time_discontinuities()\n",
      "  └ reset_time()\n",
      "   └ pupil_blinks_detect()\n",
      "    └ blinks_merge()\n",
      "     └ pupil_lowpass_filter(3)\n",
      "      └ downsample(50)\n",
      "\n"
     ]
    }
   ],
   "source": [
    "print(d)"
   ]
  },
  {
   "cell_type": "markdown",
   "metadata": {},
   "source": [
    "We see that sampling rate, number of datapoints and more is automatically printed along with the history of all operations applied to the dataset. This information can also be retrieved separately and in a form useful for further processing the function `summary()` which returns the information in the form of a `dict`:"
   ]
  },
  {
   "cell_type": "code",
   "execution_count": 7,
   "metadata": {},
   "outputs": [
    {
     "data": {
      "text/plain": [
       "{'name': 'test short',\n",
       " 'n': 2047,\n",
       " 'sampling_rate': 50,\n",
       " 'data': ['left_x',\n",
       "  'left_y',\n",
       "  'left_pupil',\n",
       "  'right_x',\n",
       "  'right_y',\n",
       "  'right_pupil'],\n",
       " 'nevents': 40,\n",
       " 'screen_limits': ((0, 1280), (0, 1024)),\n",
       " 'physical_screen_size': (30, 20),\n",
       " 'screen_eye_distance': 'not set',\n",
       " 'duration_minutes': 0.6823333333333333,\n",
       " 'start_min': 0.00015,\n",
       " 'end_min': 0.6820666666666667,\n",
       " 'parameters': '{}',\n",
       " 'glimpse': 'EyeDataDict(vars=6,n=2047,shape=(2047,)): \\n  left_x (float64): 656.5500000000001, 656.14, 654.0400000000001, 652.0199999999999, 650.4...\\n  left_y (float64): 597.54, 591.5, 588.3899999999999, 593.7800000000001, 598.3199999999999...\\n  left_pupil (float64): 1128.8869458721226, 1133.8058182761888, 1139.7069289167484, 1146.4462392731034, 1153.8027812522362...\\n  right_x (float64): 775.56, 777.14, 777.08, 776.99, 778.72...\\n  right_y (float64): 597.31, 601.3, 600.48, 595.3399999999999, 595.1...\\n  right_pupil (float64): 954.2414624419623, 958.9101375371407, 963.632119267214, 968.2405296620748, 972.6750179976658...\\n',\n",
       " 'eyes': ['left', 'right'],\n",
       " 'nblinks': {'left_pupil': 11, 'right_pupil': 11},\n",
       " 'blinks': {'left': 11 intervals, 2154.55 +/- 3588.46, [460.00, 13460.00],\n",
       "  'right': 11 intervals, 1005.45 +/- 718.34, [320.00, 3080.00]},\n",
       " 'params': '{}'}"
      ]
     },
     "execution_count": 7,
     "metadata": {},
     "output_type": "execute_result"
    }
   ],
   "source": [
    "d.summary()"
   ]
  },
  {
   "cell_type": "markdown",
   "metadata": {},
   "source": [
    "The history is internally stored in `PupilData`'s `history` member and can be applied to another object for convenience. That way, a pipeline can be developed on a single dataset and later be transferred to a whole folder of other (similar) datasets."
   ]
  }
 ],
 "metadata": {
  "kernelspec": {
   "display_name": "pypil",
   "language": "python",
   "name": "python3"
  },
  "language_info": {
   "codemirror_mode": {
    "name": "ipython",
    "version": 3
   },
   "file_extension": ".py",
   "mimetype": "text/x-python",
   "name": "python",
   "nbconvert_exporter": "python",
   "pygments_lexer": "ipython3",
   "version": "3.12.5"
  }
 },
 "nbformat": 4,
 "nbformat_minor": 4
}
